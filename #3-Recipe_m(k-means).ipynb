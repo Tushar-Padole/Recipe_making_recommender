{
 "cells": [
  {
   "cell_type": "code",
   "execution_count": 2,
   "id": "ae9a648b",
   "metadata": {},
   "outputs": [],
   "source": [
    "import pandas as pd\n",
    "from nltk.tokenize import word_tokenize\n",
    "from gensim.models import Word2Vec\n",
    "import numpy as np\n",
    "from sklearn.metrics.pairwise import cosine_similarity\n",
    "import nltk\n",
    "\n"
   ]
  },
  {
   "cell_type": "code",
   "execution_count": 91,
   "id": "c3db4be5",
   "metadata": {},
   "outputs": [],
   "source": [
    "df = pd.read_csv(\"../../datasets_2/Food Recipes/5000 Indian Cuisines Dataset(with images)/cuisine_updated.csv\")"
   ]
  },
  {
   "cell_type": "code",
   "execution_count": 37,
   "id": "4c5a5833",
   "metadata": {},
   "outputs": [
    {
     "data": {
      "text/plain": [
       "'\\n# Create a dictionary for the words you want to replace\\nreplacement_dict = {\\n    \"Non Vegeterian\": \"Non-Vegetarian\",\\n    \"No Onion\": \"No-Onion\",\\n    \"No Garlic\": \"No-Garlic\",\\n    \"High Protein\": \"High-Protein\"\\n}\\n\\n# Replace the words in the \\'diet\\' column\\ndf[\\'diet\\'] = df[\\'diet\\'].replace(replacement_dict, regex=True)\\n'"
      ]
     },
     "execution_count": 37,
     "metadata": {},
     "output_type": "execute_result"
    }
   ],
   "source": [
    "'''\n",
    "# Create a dictionary for the words you want to replace\n",
    "replacement_dict = {\n",
    "    \"Non Vegeterian\": \"Non-Vegetarian\",\n",
    "    \"No Onion\": \"No-Onion\",\n",
    "    \"No Garlic\": \"No-Garlic\",\n",
    "    \"High Protein\": \"High-Protein\"\n",
    "}\n",
    "\n",
    "# Replace the words in the 'diet' column\n",
    "df['diet'] = df['diet'].replace(replacement_dict, regex=True)\n",
    "'''"
   ]
  },
  {
   "cell_type": "code",
   "execution_count": 38,
   "id": "69a8ad28",
   "metadata": {},
   "outputs": [
    {
     "data": {
      "text/html": [
       "<div>\n",
       "<style scoped>\n",
       "    .dataframe tbody tr th:only-of-type {\n",
       "        vertical-align: middle;\n",
       "    }\n",
       "\n",
       "    .dataframe tbody tr th {\n",
       "        vertical-align: top;\n",
       "    }\n",
       "\n",
       "    .dataframe thead th {\n",
       "        text-align: right;\n",
       "    }\n",
       "</style>\n",
       "<table border=\"1\" class=\"dataframe\">\n",
       "  <thead>\n",
       "    <tr style=\"text-align: right;\">\n",
       "      <th></th>\n",
       "      <th>name</th>\n",
       "      <th>image_url</th>\n",
       "      <th>description</th>\n",
       "      <th>cuisine</th>\n",
       "      <th>course</th>\n",
       "      <th>diet</th>\n",
       "      <th>prep_time</th>\n",
       "      <th>ingredients</th>\n",
       "      <th>instructions</th>\n",
       "      <th>image_available</th>\n",
       "    </tr>\n",
       "  </thead>\n",
       "  <tbody>\n",
       "    <tr>\n",
       "      <th>0</th>\n",
       "      <td>Doddapatre Tambuli Recipe (Karpooravalli Thayi...</td>\n",
       "      <td>https://www.archanaskitchen.com/images/archana...</td>\n",
       "      <td>Doddapatre Tambuli Recipe is a popular healing...</td>\n",
       "      <td>Indian</td>\n",
       "      <td>Side Dish</td>\n",
       "      <td>Vegetarian</td>\n",
       "      <td>Total in 30 M</td>\n",
       "      <td>\\n\\n\\t\\t\\t\\t\\t\\t\\t \\t\\t4 cups Indian borage (D...</td>\n",
       "      <td>To begin making the Doddapatre Tambuli, first ...</td>\n",
       "      <td>1</td>\n",
       "    </tr>\n",
       "  </tbody>\n",
       "</table>\n",
       "</div>"
      ],
      "text/plain": [
       "                                                name  \\\n",
       "0  Doddapatre Tambuli Recipe (Karpooravalli Thayi...   \n",
       "\n",
       "                                           image_url  \\\n",
       "0  https://www.archanaskitchen.com/images/archana...   \n",
       "\n",
       "                                         description cuisine     course  \\\n",
       "0  Doddapatre Tambuli Recipe is a popular healing...  Indian  Side Dish   \n",
       "\n",
       "         diet      prep_time  \\\n",
       "0  Vegetarian  Total in 30 M   \n",
       "\n",
       "                                         ingredients  \\\n",
       "0  \\n\\n\\t\\t\\t\\t\\t\\t\\t \\t\\t4 cups Indian borage (D...   \n",
       "\n",
       "                                        instructions  image_available  \n",
       "0  To begin making the Doddapatre Tambuli, first ...                1  "
      ]
     },
     "execution_count": 38,
     "metadata": {},
     "output_type": "execute_result"
    }
   ],
   "source": [
    "df.head(1)"
   ]
  },
  {
   "cell_type": "code",
   "execution_count": 39,
   "id": "720ba054",
   "metadata": {},
   "outputs": [
    {
     "data": {
      "text/plain": [
       "(4466, 10)"
      ]
     },
     "execution_count": 39,
     "metadata": {},
     "output_type": "execute_result"
    }
   ],
   "source": [
    "df.shape"
   ]
  },
  {
   "cell_type": "code",
   "execution_count": 122,
   "id": "c7af5d14",
   "metadata": {},
   "outputs": [
    {
     "name": "stdout",
     "output_type": "stream",
     "text": [
      "<class 'pandas.core.frame.DataFrame'>\n",
      "RangeIndex: 4466 entries, 0 to 4465\n",
      "Data columns (total 11 columns):\n",
      " #   Column           Non-Null Count  Dtype \n",
      "---  ------           --------------  ----- \n",
      " 0   name             4466 non-null   object\n",
      " 1   image_url        4466 non-null   object\n",
      " 2   description      4466 non-null   object\n",
      " 3   cuisine          4458 non-null   object\n",
      " 4   course           4424 non-null   object\n",
      " 5   diet             4424 non-null   object\n",
      " 6   prep_time        4454 non-null   object\n",
      " 7   ingredients      4466 non-null   object\n",
      " 8   instructions     4466 non-null   object\n",
      " 9   image_available  4466 non-null   int64 \n",
      " 10  clean_prep_time  4466 non-null   int64 \n",
      "dtypes: int64(2), object(9)\n",
      "memory usage: 383.9+ KB\n"
     ]
    }
   ],
   "source": [
    "df.info()"
   ]
  },
  {
   "cell_type": "code",
   "execution_count": 57,
   "id": "30aa87b4",
   "metadata": {
    "scrolled": true
   },
   "outputs": [
    {
     "name": "stdout",
     "output_type": "stream",
     "text": [
      "#/n Chai Ka Masala Recipe - Homemade Spice Powder for Tea\n",
      "#/n https://www.archanaskitchen.com/images/archanaskitchen/BasicRecipes_Spice_Powders/Tea_Masala_Powder_Recipe_Archanas_Kitchen.jpg\n",
      "#/n On cold winter days and in wet monsoons, a hot steaming cup of Masala tea is what you need to give that instant energy and warmth. Addition of spices make the tea healthier.The secret behind a perfect cup of Masala tea is the Chai ka Masala or Masala Tea Powder.You can store it for 4-6 months in an air-tight container.\n",
      "#/n nan\n",
      "#/n nan\n",
      "#/n nan\n",
      "#/n nan\n",
      "#/n 1/4 cup cardamom (elaichi) pods/seeds  1/4 cup cloves (laung)  1/4 cup dry ginger powder  1 tablespoon whole black peppercorns  2 inch cinnamon stick (dalchini)  1 teaspoon nutmeg powder\n",
      "#/n To begin making Chai ka Masala, place a pan on medium heat. Add cloves, cardamom, black peppercorns and cinnamon, one by one, in no particular order.Dry roast the spices on medium heat for a couple of minutes until they release a roasted aroma. Turn off the heat and transfer the spices to a plate and allow them to cool.Once the spices have cooled, add the dried ginger powder, nutmeg powder and blend the roasted spice mixture in a blender to a smooth powder.Your Chai ka Masala is ready. Transfer the masala to an airtight container and store it for 4 to 6 months in a glass jar in the freezer and use and when required.Add 1/4 teaspoon Chai Masala powder to make 2 cups of Chai (Tea). Adjust the masala to suit your taste. If you like black tea, then add a pinch and if you are making tea along with milk then 1/4 teaspoon for two cups would give you a mild flavor. Every Chai lover has a preference in their ways the tea has to be made, so go ahead and experiment and enjoy this delicious Chai Masala.\n",
      "#/n 1\n"
     ]
    }
   ],
   "source": [
    "temp = df.iloc[1039]\n",
    "for i in temp:\n",
    "    print(\"#/n\",i)"
   ]
  },
  {
   "cell_type": "code",
   "execution_count": null,
   "id": "56adb8b5",
   "metadata": {},
   "outputs": [],
   "source": []
  },
  {
   "cell_type": "markdown",
   "id": "69ee65d1",
   "metadata": {},
   "source": [
    "# Clean and Format the Data"
   ]
  },
  {
   "cell_type": "code",
   "execution_count": 42,
   "id": "3d45f0b1",
   "metadata": {},
   "outputs": [],
   "source": [
    "# Handle missing values, especially in columns like ingredients or prep_time."
   ]
  },
  {
   "cell_type": "code",
   "execution_count": 43,
   "id": "0161adca",
   "metadata": {},
   "outputs": [],
   "source": [
    "df['ingredients'] = df['ingredients'].str.replace(r'\\n|\\t', '', regex=True).str.strip().str.lower()\n"
   ]
  },
  {
   "cell_type": "code",
   "execution_count": 51,
   "id": "ff15e899",
   "metadata": {},
   "outputs": [
    {
     "data": {
      "text/html": [
       "<div>\n",
       "<style scoped>\n",
       "    .dataframe tbody tr th:only-of-type {\n",
       "        vertical-align: middle;\n",
       "    }\n",
       "\n",
       "    .dataframe tbody tr th {\n",
       "        vertical-align: top;\n",
       "    }\n",
       "\n",
       "    .dataframe thead th {\n",
       "        text-align: right;\n",
       "    }\n",
       "</style>\n",
       "<table border=\"1\" class=\"dataframe\">\n",
       "  <thead>\n",
       "    <tr style=\"text-align: right;\">\n",
       "      <th></th>\n",
       "      <th>name</th>\n",
       "      <th>image_url</th>\n",
       "      <th>description</th>\n",
       "      <th>cuisine</th>\n",
       "      <th>course</th>\n",
       "      <th>diet</th>\n",
       "      <th>prep_time</th>\n",
       "      <th>ingredients</th>\n",
       "      <th>instructions</th>\n",
       "      <th>image_available</th>\n",
       "    </tr>\n",
       "  </thead>\n",
       "  <tbody>\n",
       "    <tr>\n",
       "      <th>0</th>\n",
       "      <td>Doddapatre Tambuli Recipe (Karpooravalli Thayi...</td>\n",
       "      <td>https://www.archanaskitchen.com/images/archana...</td>\n",
       "      <td>Doddapatre Tambuli Recipe is a popular healing...</td>\n",
       "      <td>Indian</td>\n",
       "      <td>Side Dish</td>\n",
       "      <td>Vegetarian</td>\n",
       "      <td>Total in 30 M</td>\n",
       "      <td>4 cups indian borage (doddapatre) , cleaned an...</td>\n",
       "      <td>To begin making the Doddapatre Tambuli, first ...</td>\n",
       "      <td>1</td>\n",
       "    </tr>\n",
       "    <tr>\n",
       "      <th>1</th>\n",
       "      <td>Fish Tandoori Recipe</td>\n",
       "      <td>https://www.archanaskitchen.com/images/archana...</td>\n",
       "      <td>Have you ever tried out fish tandoori? Trust m...</td>\n",
       "      <td>North Indian Recipes</td>\n",
       "      <td>Appetizer</td>\n",
       "      <td>High Protein Non Vegetarian</td>\n",
       "      <td>Total in 80 M</td>\n",
       "      <td>1 fish , nicely washed with bones on (i used p...</td>\n",
       "      <td>To begin making the Fish Tandoori recipe, keep...</td>\n",
       "      <td>1</td>\n",
       "    </tr>\n",
       "  </tbody>\n",
       "</table>\n",
       "</div>"
      ],
      "text/plain": [
       "                                                name  \\\n",
       "0  Doddapatre Tambuli Recipe (Karpooravalli Thayi...   \n",
       "1                               Fish Tandoori Recipe   \n",
       "\n",
       "                                           image_url  \\\n",
       "0  https://www.archanaskitchen.com/images/archana...   \n",
       "1  https://www.archanaskitchen.com/images/archana...   \n",
       "\n",
       "                                         description               cuisine  \\\n",
       "0  Doddapatre Tambuli Recipe is a popular healing...                Indian   \n",
       "1  Have you ever tried out fish tandoori? Trust m...  North Indian Recipes   \n",
       "\n",
       "      course                         diet      prep_time  \\\n",
       "0  Side Dish                   Vegetarian  Total in 30 M   \n",
       "1  Appetizer  High Protein Non Vegetarian  Total in 80 M   \n",
       "\n",
       "                                         ingredients  \\\n",
       "0  4 cups indian borage (doddapatre) , cleaned an...   \n",
       "1  1 fish , nicely washed with bones on (i used p...   \n",
       "\n",
       "                                        instructions  image_available  \n",
       "0  To begin making the Doddapatre Tambuli, first ...                1  \n",
       "1  To begin making the Fish Tandoori recipe, keep...                1  "
      ]
     },
     "execution_count": 51,
     "metadata": {},
     "output_type": "execute_result"
    }
   ],
   "source": [
    "df.head(2)"
   ]
  },
  {
   "cell_type": "code",
   "execution_count": 117,
   "id": "1105cffa",
   "metadata": {},
   "outputs": [],
   "source": [
    "list_prep_time = df['prep_time'].astype(str).values.tolist()  # Convert all values to string\n",
    "new_list_prep_time = []\n",
    "for time_str in list_prep_time:\n",
    "    try:\n",
    "        new_list_prep_time.append(int(time_str.split(' ')[-2]))  # Extract the numeric part before 'min'\n",
    "    except (ValueError, IndexError):\n",
    "        new_list_prep_time.append(0)  # Handle errors in case the format is unexpected\n"
   ]
  },
  {
   "cell_type": "code",
   "execution_count": 119,
   "id": "280b2620",
   "metadata": {},
   "outputs": [],
   "source": [
    "df['clean_prep_time'] = new_list_prep_time"
   ]
  },
  {
   "cell_type": "code",
   "execution_count": 120,
   "id": "02a16fea",
   "metadata": {},
   "outputs": [
    {
     "data": {
      "text/plain": [
       "0        30\n",
       "1        80\n",
       "2        55\n",
       "3        20\n",
       "4        35\n",
       "       ... \n",
       "4461     40\n",
       "4462    530\n",
       "4463     40\n",
       "4464     60\n",
       "4465     40\n",
       "Name: clean_prep_time, Length: 4466, dtype: int64"
      ]
     },
     "execution_count": 120,
     "metadata": {},
     "output_type": "execute_result"
    }
   ],
   "source": [
    "df['clean_prep_time']"
   ]
  },
  {
   "cell_type": "code",
   "execution_count": 121,
   "id": "ece505dd",
   "metadata": {},
   "outputs": [
    {
     "data": {
      "text/html": [
       "<div>\n",
       "<style scoped>\n",
       "    .dataframe tbody tr th:only-of-type {\n",
       "        vertical-align: middle;\n",
       "    }\n",
       "\n",
       "    .dataframe tbody tr th {\n",
       "        vertical-align: top;\n",
       "    }\n",
       "\n",
       "    .dataframe thead th {\n",
       "        text-align: right;\n",
       "    }\n",
       "</style>\n",
       "<table border=\"1\" class=\"dataframe\">\n",
       "  <thead>\n",
       "    <tr style=\"text-align: right;\">\n",
       "      <th></th>\n",
       "      <th>name</th>\n",
       "      <th>image_url</th>\n",
       "      <th>description</th>\n",
       "      <th>cuisine</th>\n",
       "      <th>course</th>\n",
       "      <th>diet</th>\n",
       "      <th>prep_time</th>\n",
       "      <th>ingredients</th>\n",
       "      <th>instructions</th>\n",
       "      <th>image_available</th>\n",
       "      <th>clean_prep_time</th>\n",
       "    </tr>\n",
       "  </thead>\n",
       "  <tbody>\n",
       "    <tr>\n",
       "      <th>0</th>\n",
       "      <td>Doddapatre Tambuli Recipe (Karpooravalli Thayi...</td>\n",
       "      <td>https://www.archanaskitchen.com/images/archana...</td>\n",
       "      <td>Doddapatre Tambuli Recipe is a popular healing...</td>\n",
       "      <td>Indian</td>\n",
       "      <td>Side Dish</td>\n",
       "      <td>Vegetarian</td>\n",
       "      <td>Total in 30 M</td>\n",
       "      <td>\\n\\n\\t\\t\\t\\t\\t\\t\\t \\t\\t4 cups Indian borage (D...</td>\n",
       "      <td>To begin making the Doddapatre Tambuli, first ...</td>\n",
       "      <td>1</td>\n",
       "      <td>30</td>\n",
       "    </tr>\n",
       "    <tr>\n",
       "      <th>1</th>\n",
       "      <td>Fish Tandoori Recipe</td>\n",
       "      <td>https://www.archanaskitchen.com/images/archana...</td>\n",
       "      <td>Have you ever tried out fish tandoori? Trust m...</td>\n",
       "      <td>North Indian Recipes</td>\n",
       "      <td>Appetizer</td>\n",
       "      <td>High Protein Non Vegetarian</td>\n",
       "      <td>Total in 80 M</td>\n",
       "      <td>\\n\\n\\t\\t\\t\\t\\t\\t\\t \\t\\t1 Fish\\t\\t\\t\\t\\t\\t\\t \\t...</td>\n",
       "      <td>To begin making the Fish Tandoori recipe, keep...</td>\n",
       "      <td>1</td>\n",
       "      <td>80</td>\n",
       "    </tr>\n",
       "  </tbody>\n",
       "</table>\n",
       "</div>"
      ],
      "text/plain": [
       "                                                name  \\\n",
       "0  Doddapatre Tambuli Recipe (Karpooravalli Thayi...   \n",
       "1                               Fish Tandoori Recipe   \n",
       "\n",
       "                                           image_url  \\\n",
       "0  https://www.archanaskitchen.com/images/archana...   \n",
       "1  https://www.archanaskitchen.com/images/archana...   \n",
       "\n",
       "                                         description               cuisine  \\\n",
       "0  Doddapatre Tambuli Recipe is a popular healing...                Indian   \n",
       "1  Have you ever tried out fish tandoori? Trust m...  North Indian Recipes   \n",
       "\n",
       "      course                         diet      prep_time  \\\n",
       "0  Side Dish                   Vegetarian  Total in 30 M   \n",
       "1  Appetizer  High Protein Non Vegetarian  Total in 80 M   \n",
       "\n",
       "                                         ingredients  \\\n",
       "0  \\n\\n\\t\\t\\t\\t\\t\\t\\t \\t\\t4 cups Indian borage (D...   \n",
       "1  \\n\\n\\t\\t\\t\\t\\t\\t\\t \\t\\t1 Fish\\t\\t\\t\\t\\t\\t\\t \\t...   \n",
       "\n",
       "                                        instructions  image_available  \\\n",
       "0  To begin making the Doddapatre Tambuli, first ...                1   \n",
       "1  To begin making the Fish Tandoori recipe, keep...                1   \n",
       "\n",
       "   clean_prep_time  \n",
       "0               30  \n",
       "1               80  "
      ]
     },
     "execution_count": 121,
     "metadata": {},
     "output_type": "execute_result"
    }
   ],
   "source": [
    "df.head(2)"
   ]
  },
  {
   "cell_type": "code",
   "execution_count": null,
   "id": "e4a8edd9",
   "metadata": {},
   "outputs": [],
   "source": []
  }
 ],
 "metadata": {
  "kernelspec": {
   "display_name": "Python [conda env:My_project]",
   "language": "python",
   "name": "conda-env-My_project-py"
  },
  "language_info": {
   "codemirror_mode": {
    "name": "ipython",
    "version": 3
   },
   "file_extension": ".py",
   "mimetype": "text/x-python",
   "name": "python",
   "nbconvert_exporter": "python",
   "pygments_lexer": "ipython3",
   "version": "3.9.0"
  }
 },
 "nbformat": 4,
 "nbformat_minor": 5
}
